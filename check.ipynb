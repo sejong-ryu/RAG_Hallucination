{
 "cells": [
  {
   "cell_type": "code",
   "execution_count": 14,
   "metadata": {},
   "outputs": [
    {
     "name": "stdout",
     "output_type": "stream",
     "text": [
      "118 118\n",
      "60\n",
      "[3, 5, 6, 8, 9, 10, 13, 16, 17, 18, 19, 20, 21, 23, 26, 27, 28, 30, 35, 36, 41, 44, 45, 46, 49, 55, 56, 57, 59, 60, 63, 64, 65, 68, 69, 72, 73, 75, 76, 77, 82, 84, 85, 86, 87, 88, 89, 92, 97, 99, 102, 104, 105, 107, 111, 113, 114, 115, 116, 117]\n",
      "83\n"
     ]
    }
   ],
   "source": [
    "import json\n",
    "from src.utils import normalize_answer\n",
    "\n",
    "# 틀린 답변을 저장할 리스트\n",
    "answers1 = []\n",
    "answers2 = []\n",
    "wrongs = []\n",
    "\n",
    "# JSONL 파일 경로\n",
    "file_path1 = 'HotpotQA-2000-2-0-DAGCD-df.jsonl'  # <- 파일 이름을 실제 파일명으로 바꾸세요\n",
    "file_path2 = 'HotpotQA-2000-2-0-df.jsonl'\n",
    "\n",
    "with open(file_path1, 'r', encoding='utf-8') as f:\n",
    "    for line in f:\n",
    "        data = json.loads(line)\n",
    "\n",
    "        gold = data.get(\"gold_ans\", [])\n",
    "        greedy = data.get(\"greedy_ans\", \"\").strip()\n",
    "\n",
    "        answers1.append({\n",
    "                \"question\": data.get(\"question\"),\n",
    "                \"greedy_ans\": greedy,\n",
    "                \"gold_ans\": gold\n",
    "            })\n",
    "            \n",
    "            \n",
    "with open(file_path2, 'r', encoding='utf-8') as f:\n",
    "    for line in f:\n",
    "        data = json.loads(line)\n",
    "\n",
    "        gold = data.get(\"gold_ans\", [])\n",
    "        greedy = data.get(\"greedy_ans\", \"\").strip()\n",
    "\n",
    "        answers2.append({\n",
    "                \"question\": data.get(\"question\"),\n",
    "                \"greedy_ans\": greedy,\n",
    "                \"gold_ans\": gold\n",
    "        })\n",
    "\n",
    "# 1. len check\n",
    "print(len(answers1), len(answers2))\n",
    "\n",
    "# 결과 출력 (또는 원하는 포맷으로 저장 가능)\n",
    "for i, (ans1, ans2) in enumerate(zip(answers1, answers2), start=1):\n",
    "    g1 = normalize_answer(ans1.get(\"greedy_ans\", []))\n",
    "    g2 = normalize_answer(ans2.get(\"greedy_ans\", []))\n",
    "    \n",
    "    if g1 != g2:\n",
    "        wrongs.append(i)\n",
    "        #print(g1, g2)\n",
    "        \n",
    "print(len(wrongs))\n",
    "print(wrongs)\n",
    "\n",
    "\n",
    "incorrects = []\n",
    "for i, ans in enumerate(answers2, start=1):\n",
    "    g = normalize_answer(ans.get(\"greedy_ans\", []))\n",
    "    a = normalize_answer(ans.get(\"gold_ans\", [])[0])\n",
    "    \n",
    "    #print(g)\n",
    "    #print(a)\n",
    "    if g != a: \n",
    "        incorrects.append(i)\n",
    "        \n",
    "print(len(incorrects))\n",
    "#print(incorrects)"
   ]
  }
 ],
 "metadata": {
  "kernelspec": {
   "display_name": "dagcd",
   "language": "python",
   "name": "python3"
  },
  "language_info": {
   "codemirror_mode": {
    "name": "ipython",
    "version": 3
   },
   "file_extension": ".py",
   "mimetype": "text/x-python",
   "name": "python",
   "nbconvert_exporter": "python",
   "pygments_lexer": "ipython3",
   "version": "3.9.23"
  }
 },
 "nbformat": 4,
 "nbformat_minor": 2
}
